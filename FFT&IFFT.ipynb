{
  "nbformat": 4,
  "nbformat_minor": 0,
  "metadata": {
    "colab": {
      "name": "FFT&IFFT.ipynb",
      "provenance": [],
      "collapsed_sections": [],
      "toc_visible": true,
      "authorship_tag": "ABX9TyN1hUTTJ8xtmjc6VCjPgV6p",
      "include_colab_link": true
    },
    "kernelspec": {
      "name": "python3",
      "display_name": "Python 3"
    },
    "language_info": {
      "name": "python"
    }
  },
  "cells": [
    {
      "cell_type": "markdown",
      "metadata": {
        "id": "view-in-github",
        "colab_type": "text"
      },
      "source": [
        "<a href=\"https://colab.research.google.com/github/Mark-G321/IFFT-FFT/blob/main/FFT%26IFFT.ipynb\" target=\"_parent\"><img src=\"https://colab.research.google.com/assets/colab-badge.svg\" alt=\"Open In Colab\"/></a>"
      ]
    },
    {
      "cell_type": "code",
      "execution_count": 15,
      "metadata": {
        "id": "xBzrmSdddPNk"
      },
      "outputs": [],
      "source": [
        "import numpy as np "
      ]
    },
    {
      "cell_type": "code",
      "source": [
        "def fft(P):\n",
        "    # P-[p_0,...,p_n-1] coeff representation\n",
        "    n = len(P)\n",
        "    if n % 2 != 0:\n",
        "        n = 2 ** (np.ceil(np.log2(n)))  # rounds n to be a power of 2\n",
        "        n = int(n)\n",
        "        P = (P + n * [0])[:n] #pad P with trailing zeros\n",
        "    m = int(n / 2)\n",
        "    j = complex(0, 1)\n",
        "    pi = np.pi\n",
        "    if n == 1:\n",
        "        return P\n",
        "    w = np.exp((2 * pi * j) / n)\n",
        "    pe = P[0::2]  # even places\n",
        "    po = P[1::2]  # odd places\n",
        "    ye = fft(pe)\n",
        "    yo = fft(po)\n",
        "    y = [0] * n\n",
        "    for i in range(m):\n",
        "        y[i] = np.round(ye[i] + (w ** i) * yo[i])\n",
        "        y[i + m] = np.round(ye[i] - (w ** i) * yo[i])\n",
        "    return y"
      ],
      "metadata": {
        "id": "qvURhQxhdgV8"
      },
      "execution_count": 16,
      "outputs": []
    },
    {
      "cell_type": "code",
      "source": [
        "def ifft(P):\n",
        "    # P-[P(w^0),...,P(w^n-1)] value representation\n",
        "    n = len(P)\n",
        "    if n % 2 != 0:\n",
        "        n = 2 ** (np.ceil(np.log2(n)))  # rounds n to be a power of 2\n",
        "        n = int(n)\n",
        "        P = (P + n * [0])[:n] #pad P with trailing zeros\n",
        "    m = int(n / 2)\n",
        "    j = complex(0, 1)\n",
        "    pi = np.pi\n",
        "    if n == 1:\n",
        "        return P\n",
        "    w = np.exp(((-2) * pi * j) / n)\n",
        "    pe = P[0::2]  # even places\n",
        "    po = P[1::2]  # odd places\n",
        "    ye = ifft(pe)\n",
        "    yo = ifft(po)\n",
        "    y = [0] * n\n",
        "    for i in range(m):\n",
        "        y[i] = np.round(ye[i] + (w ** i) * yo[i])\n",
        "        y[i + m] = np.round(ye[i] - (w ** i) * yo[i])\n",
        "    return y"
      ],
      "metadata": {
        "id": "eIpkFF3ZKELm"
      },
      "execution_count": 17,
      "outputs": []
    },
    {
      "cell_type": "code",
      "source": [
        "P1=[-4,3,-2,5]\n",
        "y=fft(P1)\n",
        "print(y)\n",
        "P2=ifft(y)\n",
        "P3=[np.real(element) *(1/len(P2)) for element in P2]\n",
        "print(P3)"
      ],
      "metadata": {
        "colab": {
          "base_uri": "https://localhost:8080/"
        },
        "id": "LZzPwxsNhrhY",
        "outputId": "07378e10-b10b-4533-abd8-a52f3a75b091"
      },
      "execution_count": 18,
      "outputs": [
        {
          "output_type": "stream",
          "name": "stdout",
          "text": [
            "[(2+0j), (-2-2j), (-14+0j), (-2+2j)]\n",
            "[-4.0, 3.0, -2.0, 5.0]\n"
          ]
        }
      ]
    }
  ]
}